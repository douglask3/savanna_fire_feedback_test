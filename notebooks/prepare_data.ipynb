{
 "cells": [
  {
   "cell_type": "markdown",
   "metadata": {},
   "source": [
    "<table style=\"width: 100%; border-collapse: collapse;\" border=\"0\">\n",
    "<tr>\n",
    "<td><b>Created:</b> Monday 30 January 2017</td>\n",
    "<td style=\"text-align: right;\"><a href=\"https://www.github.com/rhyswhitley/fire_limitation\">github.com/rhyswhitley/fire_limitation</td>\n",
    "</tr>\n",
    "</table>\n",
    "\n",
    "<div>\n",
    "<center>\n",
    "<font face=\"Times\">\n",
    "<br>\n",
    "<h1>Quantifying the uncertainity of a global fire limitation model using Bayesian inference</h1>\n",
    "<h2>Part 1: Staging data for analysis</h2>\n",
    "<br>\n",
    "<br>\n",
    "<sup>1,* </sup>Douglas Kelley, \n",
    "<sup>2 </sup>Ioannis Bistinas, \n",
    "<sup>3, 4 </sup>Chantelle Burton, \n",
    "<sup>1 </sup>Tobias Marthews, \n",
    "<sup>5 </sup>Rhys Whitley\n",
    "<br>\n",
    "<br>\n",
    "<br>\n",
    "<sup>1 </sup>Centre for Ecology and Hydrology, Maclean Building, Crowmarsh Gifford, Wallingford, Oxfordshire, United Kingdom\n",
    "<br>\n",
    "<sup>2 </sup>Vrije Universiteit Amsterdam, Faculty of Earth and Life Sciences, Amsterdam, Netherlands\n",
    "<br>\n",
    "<sup>3 </sup>Met Office United Kingdom, Exeter, United Kingdom\n",
    "<br>\n",
    "<sup>4 </sup>Geography, University of Exeter, Exeter, United Kingdom\n",
    "<br>\n",
    "<sup>5 </sup>Natural Perils Pricing, Commercial & Consumer Portfolio & Pricing, Suncorp Group, Sydney, Australia\n",
    "<br>\n",
    "<br>\n",
    "<h3>Summary</h3>\n",
    "<hr>\n",
    "<p> \n",
    "This notebook aims to process the separate netCDF4 files for the model drivers (X<sub>i=1, 2, ... M</sub>) and model target (Y) into a unified tabular data frame, exported as a compressed comma separated value (CSV) file. This file is subsequently used in the Bayesian inference study that forms the second notebook in this experiment. The advantage of the pre-processing the data separately to the analysis allows for it be quickly staged on demand. Of course other file formats may be more advantageous for greater compression (e.g. SQLite3 database file).\n",
    "</p>\n",
    "<br>\n",
    "<b>You will need to run this notebook to prepare the dataest before you attempt the Bayesian analysis in Part 2</b>.\n",
    "<br>\n",
    "<br>\n",
    "<br>\n",
    "<i>Python code and calculations below</i>\n",
    "<br>\n",
    "<hr>\n",
    "</font>\n",
    "</center>\n",
    "</div>"
   ]
  },
  {
   "cell_type": "markdown",
   "metadata": {},
   "source": [
    "## Load libraries"
   ]
  },
  {
   "cell_type": "code",
   "execution_count": 12,
   "metadata": {},
   "outputs": [],
   "source": [
    "# data munging and analytical libraries \n",
    "import re\n",
    "import os\n",
    "import numpy as np\n",
    "import pandas as pd\n",
    "from netCDF4 import Dataset \n",
    "\n",
    "# graphical libraries\n",
    "import matplotlib.pyplot as plt\n",
    "%matplotlib inline\n",
    "\n",
    "# set paths\n",
    "outPath = \"../data/vegFracControls.csv\""
   ]
  },
  {
   "cell_type": "markdown",
   "metadata": {},
   "source": [
    "## Import and clean data\n",
    "\n",
    "Set the directory path and look for all netcdf files that correspond to the model drivers and target."
   ]
  },
  {
   "cell_type": "code",
   "execution_count": 13,
   "metadata": {},
   "outputs": [
    {
     "data": {
      "text/html": [
       "<div>\n",
       "<style scoped>\n",
       "    .dataframe tbody tr th:only-of-type {\n",
       "        vertical-align: middle;\n",
       "    }\n",
       "\n",
       "    .dataframe tbody tr th {\n",
       "        vertical-align: top;\n",
       "    }\n",
       "\n",
       "    .dataframe thead th {\n",
       "        text-align: right;\n",
       "    }\n",
       "</style>\n",
       "<table border=\"1\" class=\"dataframe\">\n",
       "  <thead>\n",
       "    <tr style=\"text-align: right;\">\n",
       "      <th></th>\n",
       "      <th>filepath</th>\n",
       "      <th>file_name</th>\n",
       "    </tr>\n",
       "  </thead>\n",
       "  <tbody>\n",
       "    <tr>\n",
       "      <th>0</th>\n",
       "      <td>../data/BurntArea.nc</td>\n",
       "      <td>BurntArea</td>\n",
       "    </tr>\n",
       "    <tr>\n",
       "      <th>1</th>\n",
       "      <td>../data/crop.nc</td>\n",
       "      <td>crop</td>\n",
       "    </tr>\n",
       "    <tr>\n",
       "      <th>2</th>\n",
       "      <td>../data/Drought.nc</td>\n",
       "      <td>Drought</td>\n",
       "    </tr>\n",
       "    <tr>\n",
       "      <th>3</th>\n",
       "      <td>../data/MAP.nc</td>\n",
       "      <td>MAP</td>\n",
       "    </tr>\n",
       "    <tr>\n",
       "      <th>4</th>\n",
       "      <td>../data/MAT.nc</td>\n",
       "      <td>MAT</td>\n",
       "    </tr>\n",
       "    <tr>\n",
       "      <th>5</th>\n",
       "      <td>../data/MTWM.nc</td>\n",
       "      <td>MTWM</td>\n",
       "    </tr>\n",
       "    <tr>\n",
       "      <th>6</th>\n",
       "      <td>../data/pas.nc</td>\n",
       "      <td>pas</td>\n",
       "    </tr>\n",
       "    <tr>\n",
       "      <th>7</th>\n",
       "      <td>../data/PopDen.nc</td>\n",
       "      <td>PopDen</td>\n",
       "    </tr>\n",
       "    <tr>\n",
       "      <th>8</th>\n",
       "      <td>../data/SW1.nc</td>\n",
       "      <td>SW</td>\n",
       "    </tr>\n",
       "    <tr>\n",
       "      <th>9</th>\n",
       "      <td>../data/SW2.nc</td>\n",
       "      <td>SW</td>\n",
       "    </tr>\n",
       "    <tr>\n",
       "      <th>10</th>\n",
       "      <td>../data/TreeCover.nc</td>\n",
       "      <td>TreeCover</td>\n",
       "    </tr>\n",
       "    <tr>\n",
       "      <th>11</th>\n",
       "      <td>../data/urban.nc</td>\n",
       "      <td>urban</td>\n",
       "    </tr>\n",
       "  </tbody>\n",
       "</table>\n",
       "</div>"
      ],
      "text/plain": [
       "                filepath  file_name\n",
       "0   ../data/BurntArea.nc  BurntArea\n",
       "1        ../data/crop.nc       crop\n",
       "2     ../data/Drought.nc    Drought\n",
       "3         ../data/MAP.nc        MAP\n",
       "4         ../data/MAT.nc        MAT\n",
       "5        ../data/MTWM.nc       MTWM\n",
       "6         ../data/pas.nc        pas\n",
       "7      ../data/PopDen.nc     PopDen\n",
       "8         ../data/SW1.nc         SW\n",
       "9         ../data/SW2.nc         SW\n",
       "10  ../data/TreeCover.nc  TreeCover\n",
       "11      ../data/urban.nc      urban"
      ]
     },
     "execution_count": 13,
     "metadata": {},
     "output_type": "execute_result"
    }
   ],
   "source": [
    "driver_paths = [os.path.join(dp, f) for (dp, _, fn) in os.walk(\"../data/\") for f in fn if f.endswith('.nc')]\n",
    "driver_names = [re.search('^[a-zA-Z_]*', os.path.basename(fp)).group(0) for fp in driver_paths]\n",
    "\n",
    "file_table = pd.DataFrame({'filepath': driver_paths, 'file_name': driver_names})\n",
    "file_table"
   ]
  },
  {
   "cell_type": "markdown",
   "metadata": {},
   "source": [
    "Define a function to extract the variable values from each netCDF4 file. Variables are flattened from a 3 dimensional array to 1 dimensional version, pooling all values both spatially and temporily. \n",
    "\n",
    "Don't know if this is the correct way to do this, but will come back to it once I understand the model (and its optimisation) better."
   ]
  },
  {
   "cell_type": "code",
   "execution_count": 14,
   "metadata": {},
   "outputs": [],
   "source": [
    "from pdb import set_trace as browser\n",
    "def nc_extract(fpath):\n",
    "    print(\"Processing: {0}\".format(fpath))\n",
    "    with Dataset(fpath, 'r') as nc_file:\n",
    "        gdata = np.array(nc_file.variables['layer'][:,:])\n",
    "        gflat = gdata.flatten()\n",
    "        #browser()\n",
    "        if type(gdata) == np.ma.core.MaskedArray:\n",
    "            return gflat[~gflat.mask].data\n",
    "        else:\n",
    "            return gflat.data"
   ]
  },
  {
   "cell_type": "markdown",
   "metadata": {},
   "source": [
    "Execute the above function on all netCDF4 file paths."
   ]
  },
  {
   "cell_type": "code",
   "execution_count": 15,
   "metadata": {
    "scrolled": false
   },
   "outputs": [
    {
     "name": "stdout",
     "output_type": "stream",
     "text": [
      "Processing: ../data/BurntArea.nc\n",
      "Processing: ../data/crop.nc\n",
      "Processing: ../data/Drought.nc\n",
      "Processing: ../data/MAP.nc\n",
      "Processing: ../data/MAT.nc\n",
      "Processing: ../data/MTWM.nc\n",
      "Processing: ../data/pas.nc\n",
      "Processing: ../data/PopDen.nc\n",
      "Processing: ../data/SW1.nc\n",
      "Processing: ../data/SW2.nc\n",
      "Processing: ../data/TreeCover.nc\n",
      "Processing: ../data/urban.nc\n"
     ]
    }
   ],
   "source": [
    "values = [nc_extract(dp) for dp in driver_paths]"
   ]
  },
  {
   "cell_type": "markdown",
   "metadata": {},
   "source": [
    "Turn this into a dataframe for the analysis."
   ]
  },
  {
   "cell_type": "code",
   "execution_count": 16,
   "metadata": {
    "scrolled": false
   },
   "outputs": [],
   "source": [
    "# turn list into a dataframe\n",
    "fire_df = pd.DataFrame(np.array(values).T, columns=driver_names)\n",
    "\n",
    "# replace null flags with pandas null\n",
    "fire_df.replace(fire_df[\"BurntArea\"][0], np.nan, inplace=True)\n",
    "\n",
    "# drop all null rows (are ocean and not needed in optim)\n",
    "fire_df.dropna(inplace=True)"
   ]
  },
  {
   "cell_type": "markdown",
   "metadata": {},
   "source": [
    "Check that we've built it correctly."
   ]
  },
  {
   "cell_type": "code",
   "execution_count": 17,
   "metadata": {},
   "outputs": [
    {
     "data": {
      "text/html": [
       "<div>\n",
       "<style scoped>\n",
       "    .dataframe tbody tr th:only-of-type {\n",
       "        vertical-align: middle;\n",
       "    }\n",
       "\n",
       "    .dataframe tbody tr th {\n",
       "        vertical-align: top;\n",
       "    }\n",
       "\n",
       "    .dataframe thead th {\n",
       "        text-align: right;\n",
       "    }\n",
       "</style>\n",
       "<table border=\"1\" class=\"dataframe\">\n",
       "  <thead>\n",
       "    <tr style=\"text-align: right;\">\n",
       "      <th></th>\n",
       "      <th>BurntArea</th>\n",
       "      <th>crop</th>\n",
       "      <th>Drought</th>\n",
       "      <th>MAP</th>\n",
       "      <th>MAT</th>\n",
       "      <th>MTWM</th>\n",
       "      <th>pas</th>\n",
       "      <th>PopDen</th>\n",
       "      <th>SW</th>\n",
       "      <th>SW</th>\n",
       "      <th>TreeCover</th>\n",
       "      <th>urban</th>\n",
       "    </tr>\n",
       "  </thead>\n",
       "  <tbody>\n",
       "    <tr>\n",
       "      <th>128</th>\n",
       "      <td>0.000103</td>\n",
       "      <td>0.000000</td>\n",
       "      <td>0.503995</td>\n",
       "      <td>92.985718</td>\n",
       "      <td>18.424999</td>\n",
       "      <td>23.650000</td>\n",
       "      <td>0.004338</td>\n",
       "      <td>1.892931</td>\n",
       "      <td>355.882477</td>\n",
       "      <td>202.611023</td>\n",
       "      <td>0.023839</td>\n",
       "      <td>0.0</td>\n",
       "    </tr>\n",
       "    <tr>\n",
       "      <th>129</th>\n",
       "      <td>0.000038</td>\n",
       "      <td>0.000007</td>\n",
       "      <td>0.299137</td>\n",
       "      <td>111.214287</td>\n",
       "      <td>18.235714</td>\n",
       "      <td>24.842857</td>\n",
       "      <td>0.000955</td>\n",
       "      <td>2.009711</td>\n",
       "      <td>355.882477</td>\n",
       "      <td>210.107697</td>\n",
       "      <td>0.011756</td>\n",
       "      <td>0.0</td>\n",
       "    </tr>\n",
       "    <tr>\n",
       "      <th>130</th>\n",
       "      <td>0.000006</td>\n",
       "      <td>0.000002</td>\n",
       "      <td>0.360317</td>\n",
       "      <td>79.521431</td>\n",
       "      <td>19.132143</td>\n",
       "      <td>26.021429</td>\n",
       "      <td>0.001094</td>\n",
       "      <td>1.894917</td>\n",
       "      <td>355.882477</td>\n",
       "      <td>211.678619</td>\n",
       "      <td>0.004554</td>\n",
       "      <td>0.0</td>\n",
       "    </tr>\n",
       "    <tr>\n",
       "      <th>131</th>\n",
       "      <td>0.000008</td>\n",
       "      <td>0.000014</td>\n",
       "      <td>0.355147</td>\n",
       "      <td>58.299999</td>\n",
       "      <td>20.719048</td>\n",
       "      <td>27.778572</td>\n",
       "      <td>0.011957</td>\n",
       "      <td>0.497301</td>\n",
       "      <td>355.882477</td>\n",
       "      <td>214.360779</td>\n",
       "      <td>0.005536</td>\n",
       "      <td>0.0</td>\n",
       "    </tr>\n",
       "    <tr>\n",
       "      <th>132</th>\n",
       "      <td>0.000000</td>\n",
       "      <td>0.000000</td>\n",
       "      <td>0.259023</td>\n",
       "      <td>84.685715</td>\n",
       "      <td>21.566071</td>\n",
       "      <td>28.535715</td>\n",
       "      <td>0.014711</td>\n",
       "      <td>0.180588</td>\n",
       "      <td>355.882477</td>\n",
       "      <td>208.746124</td>\n",
       "      <td>0.019554</td>\n",
       "      <td>0.0</td>\n",
       "    </tr>\n",
       "  </tbody>\n",
       "</table>\n",
       "</div>"
      ],
      "text/plain": [
       "     BurntArea      crop   Drought         MAP        MAT       MTWM  \\\n",
       "128   0.000103  0.000000  0.503995   92.985718  18.424999  23.650000   \n",
       "129   0.000038  0.000007  0.299137  111.214287  18.235714  24.842857   \n",
       "130   0.000006  0.000002  0.360317   79.521431  19.132143  26.021429   \n",
       "131   0.000008  0.000014  0.355147   58.299999  20.719048  27.778572   \n",
       "132   0.000000  0.000000  0.259023   84.685715  21.566071  28.535715   \n",
       "\n",
       "          pas    PopDen          SW          SW  TreeCover  urban  \n",
       "128  0.004338  1.892931  355.882477  202.611023   0.023839    0.0  \n",
       "129  0.000955  2.009711  355.882477  210.107697   0.011756    0.0  \n",
       "130  0.001094  1.894917  355.882477  211.678619   0.004554    0.0  \n",
       "131  0.011957  0.497301  355.882477  214.360779   0.005536    0.0  \n",
       "132  0.014711  0.180588  355.882477  208.746124   0.019554    0.0  "
      ]
     },
     "execution_count": 17,
     "metadata": {},
     "output_type": "execute_result"
    }
   ],
   "source": [
    "fire_df.head()\n"
   ]
  },
  {
   "cell_type": "markdown",
   "metadata": {},
   "source": [
    "Export this to disk to be used by the analysis notebook - used gzip compression to save on space. Beware, because of there are approximation 10 million rows of data, this may take some time."
   ]
  },
  {
   "cell_type": "code",
   "execution_count": 18,
   "metadata": {},
   "outputs": [],
   "source": [
    "savepath = os.path.expanduser(outPath)\n",
    "fire_df.to_csv(savepath, index=False)"
   ]
  },
  {
   "cell_type": "markdown",
   "metadata": {},
   "source": [
    "<div>\n",
    "<br>\n",
    "<br>\n",
    "<br>\n",
    "<center>\n",
    "<font size=\"5\">\n",
    "<a style=\"font-weight: bold; size: 5\" href=\"http://localhost:8888/notebooks/notebooks/bayesian_inference.ipynb\">Part 2: click here</a>\n",
    "</font>\n",
    "</center>\n",
    "</div>"
   ]
  }
 ],
 "metadata": {
  "kernelspec": {
   "display_name": "Python 3",
   "language": "python",
   "name": "python3"
  },
  "language_info": {
   "codemirror_mode": {
    "name": "ipython",
    "version": 3
   },
   "file_extension": ".py",
   "mimetype": "text/x-python",
   "name": "python",
   "nbconvert_exporter": "python",
   "pygments_lexer": "ipython3",
   "version": "3.6.5"
  }
 },
 "nbformat": 4,
 "nbformat_minor": 1
}
